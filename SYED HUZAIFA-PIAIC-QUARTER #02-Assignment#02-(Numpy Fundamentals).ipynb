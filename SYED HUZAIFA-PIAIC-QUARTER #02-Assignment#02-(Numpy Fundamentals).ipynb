{
 "cells": [
  {
   "cell_type": "markdown",
   "metadata": {},
   "source": [
    "# Assignment For Numpy"
   ]
  },
  {
   "cell_type": "markdown",
   "metadata": {},
   "source": [
    "---\n",
    "## **Assignment # 02**\n",
    "### **Topic:** Numerical Python (Numpy Fundamentals)\n",
    "##### **Name:** Syed Huzaifa.\n",
    "##### **Roll Num:** PIAIC166759\n",
    "##### **Batch:** 35\n",
    "##### **Course:** Artificial Intelligence (AI)\n",
    "---"
   ]
  },
  {
   "cell_type": "markdown",
   "metadata": {},
   "source": [
    "## Question:1"
   ]
  },
  {
   "cell_type": "markdown",
   "metadata": {},
   "source": [
    "### Convert a 1D array to a 2D array with 2 rows?"
   ]
  },
  {
   "cell_type": "markdown",
   "metadata": {},
   "source": [
    "#### Desired output::"
   ]
  },
  {
   "cell_type": "markdown",
   "metadata": {},
   "source": [
    "array([[0, 1, 2, 3, 4],\n",
    "        [5, 6, 7, 8, 9]])"
   ]
  },
  {
   "cell_type": "code",
   "execution_count": 6,
   "metadata": {},
   "outputs": [
    {
     "name": "stdout",
     "output_type": "stream",
     "text": [
      "THIS IS THE ARRAY 1D AFTER CONVERION INTO 2D ARRAY WITH TWO ROWS:\n",
      "=================================================================\n"
     ]
    },
    {
     "data": {
      "text/plain": [
       "array([[0, 1, 2, 3, 4],\n",
       "       [5, 6, 7, 8, 9]])"
      ]
     },
     "execution_count": 6,
     "metadata": {},
     "output_type": "execute_result"
    }
   ],
   "source": [
    "import numpy as np\n",
    "arr1 = np.array([0, 1, 2, 3, 4, 5, 6, 7, 8, 9])\n",
    "print(\"THIS IS THE ARRAY 1D AFTER CONVERION INTO 2D ARRAY WITH TWO ROWS:\")\n",
    "print(\"=================================================================\")\n",
    "arr1.reshape(2,5)"
   ]
  },
  {
   "cell_type": "markdown",
   "metadata": {},
   "source": [
    "## Question:2"
   ]
  },
  {
   "cell_type": "markdown",
   "metadata": {},
   "source": [
    "###  How to stack two arrays vertically?"
   ]
  },
  {
   "cell_type": "markdown",
   "metadata": {},
   "source": [
    "#### Desired Output::"
   ]
  },
  {
   "cell_type": "raw",
   "metadata": {},
   "source": [
    "array([[0, 1, 2, 3, 4],\n",
    "        [5, 6, 7, 8, 9],\n",
    "       [1, 1, 1, 1, 1],\n",
    "       [1, 1, 1, 1, 1]])"
   ]
  },
  {
   "cell_type": "code",
   "execution_count": 18,
   "metadata": {},
   "outputs": [
    {
     "name": "stdout",
     "output_type": "stream",
     "text": [
      "THIS IS THE OUTPUT AFTER STACKING THE TWO ARRAYS VERTICALLY:\n",
      "=============================================================\n"
     ]
    },
    {
     "data": {
      "text/plain": [
       "array([[0, 1, 2, 3, 4],\n",
       "       [5, 6, 7, 8, 9],\n",
       "       [1, 1, 1, 1, 1],\n",
       "       [1, 1, 1, 1, 1]])"
      ]
     },
     "execution_count": 18,
     "metadata": {},
     "output_type": "execute_result"
    }
   ],
   "source": [
    "a = np.arange(0,10).reshape(2,5)\n",
    "b = np.ones((2,5),dtype=int).reshape(2,5)\n",
    "print(\"THIS IS THE OUTPUT AFTER STACKING THE TWO ARRAYS VERTICALLY:\")\n",
    "print(\"=============================================================\")\n",
    "np.vstack((a,b))"
   ]
  },
  {
   "cell_type": "markdown",
   "metadata": {},
   "source": [
    "## Question:3"
   ]
  },
  {
   "cell_type": "markdown",
   "metadata": {},
   "source": [
    "### How to stack two arrays horizontally?"
   ]
  },
  {
   "cell_type": "markdown",
   "metadata": {},
   "source": [
    "#### Desired Output::"
   ]
  },
  {
   "cell_type": "raw",
   "metadata": {},
   "source": [
    "array([[0, 1, 2, 3, 4, 1, 1, 1, 1, 1],\n",
    "       [5, 6, 7, 8, 9, 1, 1, 1, 1, 1]])"
   ]
  },
  {
   "cell_type": "code",
   "execution_count": 19,
   "metadata": {},
   "outputs": [
    {
     "name": "stdout",
     "output_type": "stream",
     "text": [
      "THIS IS THE OUTPUT AFTER STACKING THE TWO ARRAYS HORIZONTALLY:\n",
      "=============================================================\n"
     ]
    },
    {
     "data": {
      "text/plain": [
       "array([[0, 1, 2, 3, 4, 1, 1, 1, 1, 1],\n",
       "       [5, 6, 7, 8, 9, 1, 1, 1, 1, 1]])"
      ]
     },
     "execution_count": 19,
     "metadata": {},
     "output_type": "execute_result"
    }
   ],
   "source": [
    "a = np.arange(0,10).reshape(2,5)\n",
    "b = np.ones((2,5),dtype=int).reshape(2,5)\n",
    "print(\"THIS IS THE OUTPUT AFTER STACKING THE TWO ARRAYS HORIZONTALLY:\")\n",
    "print(\"=============================================================\")\n",
    "np.hstack((a,b))"
   ]
  },
  {
   "cell_type": "markdown",
   "metadata": {},
   "source": [
    "## Question:4"
   ]
  },
  {
   "cell_type": "markdown",
   "metadata": {},
   "source": [
    "### How to convert an array of arrays into a flat 1d array?"
   ]
  },
  {
   "cell_type": "markdown",
   "metadata": {},
   "source": [
    "#### Desired Output::"
   ]
  },
  {
   "cell_type": "raw",
   "metadata": {},
   "source": [
    "array([0, 1, 2, 3, 4, 5, 6, 7, 8, 9])"
   ]
  },
  {
   "cell_type": "code",
   "execution_count": 36,
   "metadata": {},
   "outputs": [
    {
     "name": "stdout",
     "output_type": "stream",
     "text": [
      "THIS IS THE 1D ARRAY AFTER FLATTENING THE ARRAY OF SHAPE '5,2':\n",
      "===============================================================\n"
     ]
    },
    {
     "data": {
      "text/plain": [
       "array([0, 1, 2, 3, 4, 5, 6, 7, 8, 9])"
      ]
     },
     "execution_count": 36,
     "metadata": {},
     "output_type": "execute_result"
    }
   ],
   "source": [
    "a = np.array([0,1,2,3,4,5,6,7,8,9,]).reshape(5,2)\n",
    "print(\"THIS IS THE 1D ARRAY AFTER FLATTENING THE ARRAY OF SHAPE '5,2':\")\n",
    "print(\"===============================================================\")\n",
    "np.ravel(a)"
   ]
  },
  {
   "cell_type": "markdown",
   "metadata": {},
   "source": [
    "## Question:5"
   ]
  },
  {
   "cell_type": "markdown",
   "metadata": {},
   "source": [
    "### How to Convert higher dimension into one dimension?"
   ]
  },
  {
   "cell_type": "markdown",
   "metadata": {},
   "source": [
    "#### Desired Output::"
   ]
  },
  {
   "cell_type": "raw",
   "metadata": {},
   "source": [
    "array([ 0, 1, 2, 3, 4, 5, 6, 7, 8, 9, 10, 11, 12, 13, 14])"
   ]
  },
  {
   "cell_type": "code",
   "execution_count": 51,
   "metadata": {},
   "outputs": [
    {
     "name": "stdout",
     "output_type": "stream",
     "text": [
      "THIS IS THE HIGHER DIMENSION ARRAY AFTER CONVERSION INTO 1D:\n",
      "============================================================\n"
     ]
    },
    {
     "data": {
      "text/plain": [
       "array([[ 0,  1,  2,  3,  4,  5,  6,  7,  8,  9, 10, 11, 12, 13, 14]])"
      ]
     },
     "execution_count": 51,
     "metadata": {},
     "output_type": "execute_result"
    }
   ],
   "source": [
    "a = np.arange(0,15).reshape(5,3)\n",
    "print(\"THIS IS THE HIGHER DIMENSION ARRAY AFTER CONVERSION INTO 1D:\")\n",
    "print(\"============================================================\")\n",
    "a.reshape(1,15)"
   ]
  },
  {
   "cell_type": "markdown",
   "metadata": {},
   "source": [
    "## Question:6"
   ]
  },
  {
   "cell_type": "markdown",
   "metadata": {},
   "source": [
    "### Convert one dimension to higher dimension?"
   ]
  },
  {
   "cell_type": "markdown",
   "metadata": {},
   "source": [
    "#### Desired Output::"
   ]
  },
  {
   "cell_type": "raw",
   "metadata": {},
   "source": [
    "array([[ 0, 1, 2],\n",
    "[ 3, 4, 5],\n",
    "[ 6, 7, 8],\n",
    "[ 9, 10, 11],\n",
    "[12, 13, 14]])"
   ]
  },
  {
   "cell_type": "code",
   "execution_count": 54,
   "metadata": {},
   "outputs": [
    {
     "name": "stdout",
     "output_type": "stream",
     "text": [
      "THIS IS THE 1D ARRAY AFTER CONVERSION INTO HIGHER DIMENSION:\n",
      "============================================================\n"
     ]
    },
    {
     "data": {
      "text/plain": [
       "array([[ 0,  1,  2],\n",
       "       [ 3,  4,  5],\n",
       "       [ 6,  7,  8],\n",
       "       [ 9, 10, 11],\n",
       "       [12, 13, 14]])"
      ]
     },
     "execution_count": 54,
     "metadata": {},
     "output_type": "execute_result"
    }
   ],
   "source": [
    "a = np.arange(0,15)\n",
    "print(\"THIS IS THE 1D ARRAY AFTER CONVERSION INTO HIGHER DIMENSION:\")\n",
    "print(\"============================================================\")\n",
    "a.reshape(5,3)"
   ]
  },
  {
   "cell_type": "markdown",
   "metadata": {},
   "source": [
    "## Question:7"
   ]
  },
  {
   "cell_type": "markdown",
   "metadata": {},
   "source": [
    "### Create 5x5 an array and find the square of an array?"
   ]
  },
  {
   "cell_type": "code",
   "execution_count": 113,
   "metadata": {},
   "outputs": [
    {
     "name": "stdout",
     "output_type": "stream",
     "text": [
      "THIS IS THE ARRAY CONTAINING THE SQUARES OF THE ELEMENTS OF ARRAY 'a':\n",
      "======================================================================\n"
     ]
    },
    {
     "data": {
      "text/plain": [
       "array([[1.41421356, 1.73205081, 2.        , 2.23606798, 2.44948974],\n",
       "       [2.64575131, 2.82842712, 3.        , 3.16227766, 3.31662479],\n",
       "       [3.46410162, 3.60555128, 3.74165739, 3.87298335, 4.        ],\n",
       "       [4.12310563, 4.24264069, 4.35889894, 4.47213595, 4.58257569],\n",
       "       [4.69041576, 4.79583152, 4.89897949, 5.        , 5.09901951]])"
      ]
     },
     "execution_count": 113,
     "metadata": {},
     "output_type": "execute_result"
    }
   ],
   "source": [
    "a = np.arange(2,27).reshape(5,5)\n",
    "print(\"THIS IS THE ARRAY CONTAINING THE SQUARES OF THE ELEMENTS OF ARRAY 'a':\")\n",
    "print(\"======================================================================\")\n",
    "np.sqrt(a)"
   ]
  },
  {
   "cell_type": "markdown",
   "metadata": {},
   "source": [
    "## Question:8"
   ]
  },
  {
   "cell_type": "markdown",
   "metadata": {},
   "source": [
    "### Create 5x6 an array and find the mean?"
   ]
  },
  {
   "cell_type": "code",
   "execution_count": 70,
   "metadata": {},
   "outputs": [
    {
     "name": "stdout",
     "output_type": "stream",
     "text": [
      "THIS IS THE MEAN OF THE ARRAY 'a':\n",
      "==================================\n"
     ]
    },
    {
     "data": {
      "text/plain": [
       "0.20655161961365345"
      ]
     },
     "execution_count": 70,
     "metadata": {},
     "output_type": "execute_result"
    }
   ],
   "source": [
    "a = np.random.randn(5,6)\n",
    "print(\"THIS IS THE MEAN OF THE ARRAY 'a':\")\n",
    "print(\"==================================\")\n",
    "a.mean()"
   ]
  },
  {
   "cell_type": "markdown",
   "metadata": {},
   "source": [
    "## Question:9"
   ]
  },
  {
   "cell_type": "markdown",
   "metadata": {},
   "source": [
    "### Find the standard deviation of the previous array in Q8?"
   ]
  },
  {
   "cell_type": "code",
   "execution_count": 71,
   "metadata": {},
   "outputs": [
    {
     "name": "stdout",
     "output_type": "stream",
     "text": [
      "THIS IS THE STANDARD DEVIATION OF THE ARRAY 'a':\n",
      "================================================\n"
     ]
    },
    {
     "data": {
      "text/plain": [
       "1.0824961279709069"
      ]
     },
     "execution_count": 71,
     "metadata": {},
     "output_type": "execute_result"
    }
   ],
   "source": [
    "print(\"THIS IS THE STANDARD DEVIATION OF THE ARRAY 'a':\")\n",
    "print(\"================================================\")\n",
    "a.std()"
   ]
  },
  {
   "cell_type": "markdown",
   "metadata": {},
   "source": [
    "## Question:10"
   ]
  },
  {
   "cell_type": "markdown",
   "metadata": {},
   "source": [
    "### Find the median of the previous array in Q8?"
   ]
  },
  {
   "cell_type": "code",
   "execution_count": 72,
   "metadata": {},
   "outputs": [
    {
     "name": "stdout",
     "output_type": "stream",
     "text": [
      "THIS IS THE MEDIAN OF THE ARRAY 'a':\n",
      "====================================\n"
     ]
    },
    {
     "data": {
      "text/plain": [
       "0.23528026694048704"
      ]
     },
     "execution_count": 72,
     "metadata": {},
     "output_type": "execute_result"
    }
   ],
   "source": [
    "print(\"THIS IS THE MEDIAN OF THE ARRAY 'a':\")\n",
    "print(\"====================================\")\n",
    "np.median(a)"
   ]
  },
  {
   "cell_type": "markdown",
   "metadata": {},
   "source": [
    "## Question:11"
   ]
  },
  {
   "cell_type": "markdown",
   "metadata": {},
   "source": [
    "### Find the transpose of the previous array in Q8?"
   ]
  },
  {
   "cell_type": "code",
   "execution_count": 75,
   "metadata": {},
   "outputs": [
    {
     "name": "stdout",
     "output_type": "stream",
     "text": [
      "THIS IS THE TRANSPOSE OF THE ARRAY 'a':\n",
      "=======================================\n"
     ]
    },
    {
     "data": {
      "text/plain": [
       "array([[ 0.23049288,  0.74473163, -0.21237738,  0.49355777,  0.25347832],\n",
       "       [ 0.46930891, -0.75300761, -0.01526924,  0.60791865,  1.12849936],\n",
       "       [-0.44710295,  0.84382469,  2.49807174,  0.47213811, -1.11189159],\n",
       "       [-2.15679632, -0.50540482,  0.24006765,  0.89987262, -1.08603055],\n",
       "       [-0.88211761,  1.01059308,  0.06611107,  0.06972766,  2.38770139],\n",
       "       [ 0.03495288, -1.80710653, -0.68742413,  2.15978281,  1.2502461 ]])"
      ]
     },
     "execution_count": 75,
     "metadata": {},
     "output_type": "execute_result"
    }
   ],
   "source": [
    "print(\"THIS IS THE TRANSPOSE OF THE ARRAY 'a':\")\n",
    "print(\"=======================================\")\n",
    "a.transpose()"
   ]
  },
  {
   "cell_type": "markdown",
   "metadata": {},
   "source": [
    "## Question:12"
   ]
  },
  {
   "cell_type": "markdown",
   "metadata": {},
   "source": [
    "### Create a 4x4 an array and find the sum of diagonal elements?"
   ]
  },
  {
   "cell_type": "code",
   "execution_count": 78,
   "metadata": {},
   "outputs": [
    {
     "name": "stdout",
     "output_type": "stream",
     "text": [
      "THIS IS THE SUM OF THE DIAGONAL ELEMENTS OF THE ARRAY 'b':\n",
      "==========================================================\n"
     ]
    },
    {
     "data": {
      "text/plain": [
       "array([ 1.41547325,  0.36958776, -0.31795167,  0.73212312])"
      ]
     },
     "execution_count": 78,
     "metadata": {},
     "output_type": "execute_result"
    }
   ],
   "source": [
    "b = np.random.randn(4,4)\n",
    "print(\"THIS IS THE SUM OF THE DIAGONAL ELEMENTS OF THE ARRAY 'b':\")\n",
    "print(\"==========================================================\")\n",
    "b.diagonal()"
   ]
  },
  {
   "cell_type": "markdown",
   "metadata": {},
   "source": [
    "## Question:13"
   ]
  },
  {
   "cell_type": "markdown",
   "metadata": {},
   "source": [
    "### Find the determinant of the previous array in Q12?"
   ]
  },
  {
   "cell_type": "code",
   "execution_count": 83,
   "metadata": {},
   "outputs": [
    {
     "name": "stdout",
     "output_type": "stream",
     "text": [
      "THIS IS DETERMINANT OF THE ARRAY 'b':\n",
      "=========================================\n"
     ]
    },
    {
     "data": {
      "text/plain": [
       "0.46485688410458675"
      ]
     },
     "execution_count": 83,
     "metadata": {},
     "output_type": "execute_result"
    }
   ],
   "source": [
    "print(\"THIS IS DETERMINANT OF THE ARRAY 'b':\")\n",
    "print(\"=========================================\")\n",
    "np.linalg.det(b)"
   ]
  },
  {
   "cell_type": "markdown",
   "metadata": {},
   "source": [
    "## Question:14"
   ]
  },
  {
   "cell_type": "markdown",
   "metadata": {},
   "source": [
    "### Find the 5th and 95th percentile of an array?"
   ]
  },
  {
   "cell_type": "code",
   "execution_count": 91,
   "metadata": {},
   "outputs": [
    {
     "name": "stdout",
     "output_type": "stream",
     "text": [
      "THIS IS THE 5th PERCENTILE OF ARRAY 'c': \n",
      "=========================================\n"
     ]
    },
    {
     "data": {
      "text/plain": [
       "4.95"
      ]
     },
     "execution_count": 91,
     "metadata": {},
     "output_type": "execute_result"
    }
   ],
   "source": [
    "c = np.arange(100).reshape(20,5)\n",
    "print(\"THIS IS THE 5th PERCENTILE OF ARRAY 'c': \")\n",
    "print(\"=========================================\")\n",
    "np.percentile (c, 5, axis=None, out=None)"
   ]
  },
  {
   "cell_type": "code",
   "execution_count": 92,
   "metadata": {},
   "outputs": [
    {
     "name": "stdout",
     "output_type": "stream",
     "text": [
      "THIS IS THE 95th PERCENTILE OF ARRAY 'c': \n",
      "==========================================\n"
     ]
    },
    {
     "data": {
      "text/plain": [
       "94.05"
      ]
     },
     "execution_count": 92,
     "metadata": {},
     "output_type": "execute_result"
    }
   ],
   "source": [
    "c = np.arange(100).reshape(20,5)\n",
    "print(\"THIS IS THE 95th PERCENTILE OF ARRAY 'c': \")\n",
    "print(\"==========================================\")\n",
    "np.percentile (c, 95, axis=None, out=None)"
   ]
  },
  {
   "cell_type": "markdown",
   "metadata": {},
   "source": [
    "## Question:15"
   ]
  },
  {
   "cell_type": "markdown",
   "metadata": {},
   "source": [
    "### How to find if a given array has any null values?"
   ]
  },
  {
   "cell_type": "code",
   "execution_count": 112,
   "metadata": {},
   "outputs": [
    {
     "name": "stdout",
     "output_type": "stream",
     "text": [
      "THIS IS THE ARRAY OBTAINED AFTER REPLACING THE NULL VALUES WITH 'null' TO RECIEVE AN INDICATION THAT WHICH VALUES WERE NULL:\n",
      "============================================================================================================================\n"
     ]
    },
    {
     "data": {
      "text/plain": [
       "array(['120', '50', '5', 'null', '25', '68', '34', 'null', '80', 'null'],\n",
       "      dtype='<U11')"
      ]
     },
     "execution_count": 112,
     "metadata": {},
     "output_type": "execute_result"
    }
   ],
   "source": [
    "a = np.array([120,50,5,0,25,68,34,0,80,0])\n",
    "print(\"THIS IS THE ARRAY OBTAINED AFTER REPLACING THE NULL VALUES WITH 'null' TO RECIEVE AN INDICATION THAT WHICH VALUES WERE NULL:\")\n",
    "print(\"============================================================================================================================\")\n",
    "np.where(a==0,\"null\",a)"
   ]
  }
 ],
 "metadata": {
  "kernelspec": {
   "display_name": "Python 3",
   "language": "python",
   "name": "python3"
  },
  "language_info": {
   "codemirror_mode": {
    "name": "ipython",
    "version": 3
   },
   "file_extension": ".py",
   "mimetype": "text/x-python",
   "name": "python",
   "nbconvert_exporter": "python",
   "pygments_lexer": "ipython3",
   "version": "3.9.0"
  }
 },
 "nbformat": 4,
 "nbformat_minor": 2
}
